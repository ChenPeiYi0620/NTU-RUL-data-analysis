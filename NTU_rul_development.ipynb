{
 "cells": [
  {
   "cell_type": "markdown",
   "id": "479f0917",
   "metadata": {},
   "source": [
    "## This program is to build up the CCAE+RUL research step by step ##\n",
    "\n"
   ]
  },
  {
   "cell_type": "code",
   "execution_count": null,
   "id": "1dc27a6b",
   "metadata": {},
   "outputs": [],
   "source": [
    "#  import tools \n",
    "from sklearn.model_selection import train_test_split\n",
    "from keras.src.models import Model\n",
    "from keras.src.saving.saving_api import load_model\n",
    "from keras.src.layers import Input, Conv1D, Dense, concatenate, RepeatVector, MaxPooling1D, Activation ,UpSampling1D, Conv1DTranspose\n",
    "from keras.src.utils import plot_model\n",
    "import numpy as np \n",
    "import pandas as pd\n",
    "from openpyxl import Workbook\n",
    "import matplotlib.pyplot as plt\n",
    "import os\n",
    "import sys\n",
    "import csv\n",
    "import time\n",
    "from IPython import embed\n",
    "\n",
    "from rul_features.rul_data_read import read_rul_data\n",
    "\n",
    "from test_algs.CCAE_ntu_rul import get_initial_files_datalist, CCAE_train\n",
    "from test_algs.CCAE_ntu_rul import CCAE_model_application, CCAE_model_build_train"
   ]
  },
  {
   "cell_type": "markdown",
   "id": "53e518e1",
   "metadata": {},
   "source": [
    "* First step: check the file status *"
   ]
  },
  {
   "cell_type": "code",
   "execution_count": null,
   "id": "650e6ca1",
   "metadata": {},
   "outputs": [],
   "source": [
    "# 開啟互動模式\n",
    "%matplotlib widget\n",
    "\n",
    "train_file_list=[]\n",
    "\n",
    "# Data set folder \n",
    "NTU_dataset_path = r'D:\\OneDrive\\RUL HI Reasearch Result\\Data_sets\\NTU_RUL_v2_data\\Acc_life_test_data\\Organized_Data'\n",
    "\n",
    "# 測試階段只引入 1800rpm的資料\n",
    "\n",
    "# -----------------------10psi data--------------------\n",
    "\n",
    "collect_setting = r\"Load_Free\\Speed_1800\\Pressure_10psi\"  \n",
    "train_file_list.append(os.path.join(NTU_dataset_path, collect_setting, r\"0312_V1800_10P_FREE0\"))\n",
    "train_file_list.append(os.path.join(NTU_dataset_path, collect_setting, r\"0313_V1800_10P_FREE1\"))\n",
    "train_file_list.append(os.path.join(NTU_dataset_path, collect_setting, r\"0314_V1800_10P_FREE2\"))\n",
    "\n",
    "collect_setting = r\"Load_1V\\Speed_1800\\Pressure_10psi\"\n",
    "train_file_list.append(os.path.join(NTU_dataset_path, collect_setting, r\"10kg_1V_1800rpm_1\"))\n",
    "train_file_list.append(os.path.join(NTU_dataset_path, collect_setting, r\"15kg_1V_1800rpm_1\"))\n",
    "train_file_list.append(os.path.join(NTU_dataset_path, collect_setting, r\"15kg_1V_1800rpm_2\"))\n",
    "\n",
    "collect_setting = r\"Load_2V\\Speed_1800\\Pressure_10psi\"\n",
    "train_file_list.append(os.path.join(NTU_dataset_path, collect_setting, r\"0509_V1800_10P_2_1\"))\n",
    "\n",
    "# -----------------------5psi data--------------------\n",
    "\n",
    "collect_setting = r\"Load_1V\\Speed_1800\\Pressure_5psi\"\n",
    "# train_file_list.appeng(os.path.join(NTU_dataset_path, collect_setting, r\"5psi_1V_1_3min\"))\n",
    "train_file_list.append(os.path.join(NTU_dataset_path, collect_setting, r\"06kg_1V_1800rpm_2\"))\n",
    "\n",
    "collect_setting= r\"Load_0V\\Speed_1800\\Pressure_5psi\"\n",
    "train_file_list.append(os.path.join(NTU_dataset_path, collect_setting, r\"0313_V1800_5P_FREE2\"))\n",
    "\n",
    "collect_setting= r\"Load_2V\\Speed_1800\\Pressure_5psi\"\n",
    "train_file_list.append(os.path.join(NTU_dataset_path, collect_setting, r\"0402_V1800_5P_2_1\"))\n",
    "\n",
    "# 確認 train_file_list 中的所有路徑是否存在\n",
    "for path in train_file_list:\n",
    "    if not os.path.exists(path):\n",
    "        print(f\"檔案不存在: {path}\")\n",
    "    else:\n",
    "        print(f\"檔案存在: {path}\")\n",
    "\n",
    "\n",
    "\n"
   ]
  },
  {
   "cell_type": "code",
   "execution_count": null,
   "id": "9537f837",
   "metadata": {},
   "outputs": [],
   "source": [
    "my_ccae_model1,_,__cached__ = CCAE_model_build_train.build_CCAE_model([1], sequence_length=1024, condition_dim=1,\n",
    "                                                        model_name='V2I2_in_V2I2_out.keras', file_name='V2I2_in_V2I2_out_model.png')\n",
    "# 顯示模型結構圖\n",
    "plot_model(my_ccae_model1, to_file='V2I2_in_V2I2_out_model.png', show_shapes=True, show_layer_names=True)\n"
   ]
  },
  {
   "cell_type": "code",
   "execution_count": null,
   "id": "8a875768",
   "metadata": {},
   "outputs": [],
   "source": [
    "\n",
    "\n",
    "my_ccae_model2,_ ,_ = CCAE_model_build_train.build_CCAE_model([1,1], sequence_length=1024, condition_dim=1,\n",
    "                                                        model_name='I2_in_I2_out.keras', file_name='I2_in_I2_out_model.png')\n",
    "# 顯示模型結構圖\n",
    "plot_model(my_ccae_model2, to_file='I2_in_I2_out.png', show_shapes=True, show_layer_names=True)"
   ]
  },
  {
   "cell_type": "code",
   "execution_count": null,
   "id": "cf6a1791",
   "metadata": {},
   "outputs": [],
   "source": [
    "\n",
    "my_ccae_model3 = CCAE_model_build_train.build_CCAE_model([1,1], sequence_length=1024, condition_dim=1,\n",
    "                                                        model_name='V2_in_I2_out.keras', file_name='V2_in_I2_out_model.png')\n",
    "# my_ccae_model = CCAE_model_build_train.build_CCAE_model([1,1,1,1], sequence_length=1024, condition_dim=1,\n",
    "#                                                         model_name='I1_in_I1_out.keras', file_name='I1_in_I1_out_model.png')"
   ]
  },
  {
   "cell_type": "markdown",
   "id": "3d1b3abf",
   "metadata": {},
   "source": [
    "** Step 2: train the ccae model **"
   ]
  },
  {
   "cell_type": "code",
   "execution_count": null,
   "id": "2adc3233",
   "metadata": {},
   "outputs": [],
   "source": [
    "# CCAE_model_build_train.build_CCAE_model([1,1,1,1], sequence_length=1024, condition_dim=1)\n",
    "from keras.src.utils import plot_model\n",
    "from IPython.display import Image\n",
    "from keras.src.layers import Concatenate\n",
    "from IPython.display import HTML\n",
    "\n",
    "input_dim_list=[1,1,1,1]\n",
    "sequence_length=1024\n",
    "condition_dim=1\n",
    "\n",
    "inputs = []\n",
    "condition_input = Input(shape=(condition_dim,), name='condition') \n",
    "repeated_condition = RepeatVector(sequence_length, name='repeated_condition')(condition_input)\n",
    "\n",
    "# 合併所有time-series inputs\n",
    "for idx, input_dim in enumerate(input_dim_list):\n",
    "    input_layer = Input(shape=(sequence_length, input_dim), name=f'series_{idx}')\n",
    "    inputs.append(input_layer)\n",
    "\n",
    "# 將所有輸入通道與 repeated_condition 在最後一個維度上合併\n",
    "encoder_input = Concatenate(axis=-1, name='full_encoder_input')(inputs + [repeated_condition])\n",
    "\n",
    "# Encoder\n",
    "x = Conv1D(filters=64, kernel_size=64, strides=16, padding='same')(encoder_input)\n",
    "x = MaxPooling1D(pool_size=2)(x)\n",
    "x = Activation('relu')(x)\n",
    "\n",
    "x = Conv1D(filters=32, kernel_size=3, padding='same')(x)\n",
    "x = MaxPooling1D(pool_size=2)(x)\n",
    "x = Activation('relu')(x)\n",
    "\n",
    "x = Conv1D(filters=16, kernel_size=3, padding='same')(x)\n",
    "x = MaxPooling1D(pool_size=2)(x)\n",
    "encoded = Activation('relu')(x)\n",
    "\n",
    "encoder_model = Model(inputs=inputs+[condition_input], outputs=encoded, name='Encoder')\n",
    "# encoder_model.summary()\n",
    "# plot_model(encoder_model, show_shapes=True, show_layer_names=True)\n",
    "\n",
    "\n",
    "\n",
    "# Decoder\n",
    "decoder_input = Input(shape=(encoder_model.output_shape[1], encoder_model.output_shape[2]), name='encoder_output')\n",
    "decoder_condition_input = Input(shape=(condition_dim,), name='decoder_condition')\n",
    "repeated_decoder_condition = RepeatVector(encoded.shape[1])(decoder_condition_input)\n",
    "decoder_merge_input = concatenate([decoder_input, repeated_decoder_condition], name='merged_decoder_input')\n",
    "\n",
    "# 重建tensor \n",
    "x = Conv1DTranspose(filters=16, kernel_size=3, padding='same')(decoder_merge_input)\n",
    "x = UpSampling1D(2)(x)\n",
    "x = Activation('relu')(x)\n",
    "\n",
    "x = Conv1DTranspose(filters=32, kernel_size=3, padding='same')(x)\n",
    "x = UpSampling1D(2)(x)\n",
    "x = Activation('relu')(x)\n",
    "\n",
    "x = Conv1DTranspose(filters=64, kernel_size=64, strides=16, padding='same')(x)\n",
    "x = UpSampling1D(2)(x)\n",
    "x = Activation('tanh')(x)\n",
    "\n",
    "output_list = [Dense(dim, activation='linear', name=f'output_{idx}')(x) for idx, dim in enumerate(input_dim_list)]\n",
    "decoder_model = Model(inputs=[decoder_input, decoder_condition_input], outputs=output_list, name='Decoder')\n",
    "# decoder_model.summary()\n",
    "# plot_model(decoder_model, show_shapes=True, show_layer_names=True)\n",
    "\n",
    "# 編碼輸入：所有 series input + condition input\n",
    "full_encoder_inputs = inputs + [condition_input]\n",
    "encoded = encoder_model(full_encoder_inputs)\n",
    "\n",
    "# 將 encoder 輸出與 condition 傳入 decoder\n",
    "decoder_outputs = decoder_model([encoded, condition_input])\n",
    "\n",
    "# 建立完整模型\n",
    "full_model = Model(inputs=full_encoder_inputs, outputs=decoder_outputs, name=f'CCAE_model {encoder_input.shape[2]-1} in {len(output_list)} out')\n",
    "\n",
    "# 顯示模型結構圖\n",
    "plot_model(full_model, show_shapes=True, show_layer_names=True)\n",
    "\n",
    "\n"
   ]
  },
  {
   "cell_type": "code",
   "execution_count": null,
   "id": "bb37ef42",
   "metadata": {},
   "outputs": [],
   "source": [
    "len(output_list)"
   ]
  },
  {
   "cell_type": "code",
   "execution_count": null,
   "id": "977dc11b",
   "metadata": {},
   "outputs": [],
   "source": [
    "\n",
    "# Full CCAE model\n",
    "\n",
    "model = Model(inputs=inputs+[condition_input], outputs=output_list)\n",
    "model.compile(optimizer='adam', loss='mse')\n",
    "# model.summary()\n",
    "\n",
    "plot_model(model, show_shapes=True, show_layer_names=True)"
   ]
  },
  {
   "cell_type": "code",
   "execution_count": null,
   "id": "8be6c542",
   "metadata": {},
   "outputs": [],
   "source": [
    "len(output_list)\n"
   ]
  },
  {
   "cell_type": "code",
   "execution_count": null,
   "id": "79b54239",
   "metadata": {},
   "outputs": [],
   "source": [
    "\n",
    "\n",
    "# use the first 10% data for CCAE training or filtering \n",
    "Pre_train_set=0.1\n",
    "# Create training data set \n",
    "motor_data_list=get_initial_files_datalist(train_file_list, Pre_train_set,\n",
    "                                            input_name=\"Current alpha downsample\")\n",
    "\n",
    "\n",
    "# Shuffle the training data randomly\n",
    "np.random.seed(42)  # Set random seed for reproducibility \n",
    "np.random.shuffle(motor_data_list)\n",
    "\n",
    "# 訓練CCAE 模型\n",
    "\n",
    "\n",
    "# CCAE_train(Motor_data = motor_data_list,\n",
    "#                         model_name = \"0524_ItoI_model_downsample.keras\")\n",
    "\n",
    "CCAE_train(Motor_data = motor_data_list,\n",
    "                        model_name = \"0608_ItoI_all_1800.keras\")\n"
   ]
  },
  {
   "cell_type": "markdown",
   "id": "de5cbfd8",
   "metadata": {},
   "source": [
    "** Step 3: Apply the ccae model **"
   ]
  },
  {
   "cell_type": "code",
   "execution_count": null,
   "id": "6c825f42",
   "metadata": {},
   "outputs": [],
   "source": []
  },
  {
   "cell_type": "code",
   "execution_count": null,
   "id": "9225f2be",
   "metadata": {},
   "outputs": [],
   "source": [
    "# 指定模型名稱\n",
    "# model_name = \"0523_test_model.keras\"\n",
    "# model_name = \"0524_ItoI_model_downsample.keras\"\n",
    "model_name= \"0608_ItoI_all_1800.keras\"\n",
    "\n",
    "\n",
    "ccae_model=load_model(model_name)\n",
    "\n",
    "\n",
    "# 儲存所有 ccae 物件\n",
    "my_ccae_objects=[]\n",
    "for i in range(len(train_file_list)):\n",
    "    my_ccae=CCAE_model_application(model=ccae_model, file_path=train_file_list[i])\n",
    "    mse_errors = my_ccae.predict_mse_byfile()\n",
    "    my_ccae.get_basic_timelist()\n",
    "    my_ccae_objects.append(my_ccae)\n"
   ]
  },
  {
   "cell_type": "code",
   "execution_count": null,
   "id": "0ab837c1",
   "metadata": {},
   "outputs": [],
   "source": [
    "# 根據 my_ccae_objects 的數量動態產生 (n, 1) 的 subplot\n",
    "n = len(my_ccae_objects)\n",
    "fig, axes = plt.subplots(n, 1, figsize=(12, 3 * n), sharex=True)\n",
    "\n",
    "if n == 1:\n",
    "    axes = [axes]  # 保證 axes 可迭代\n",
    "\n",
    "for idx, (my_ccae, ax) in enumerate(zip(my_ccae_objects, axes)):\n",
    "    ax.plot(my_ccae.basic_timelist[\"Time stamps\"], my_ccae.ccae_repport[\"mse_avg_byfile\"],\n",
    "            label=f\"File: {my_ccae.file_path.split(os.sep)[-1]}\")\n",
    "    ax.set_ylabel(\"MSE Error\")\n",
    "    ax.legend()\n",
    "    ax.grid(True)\n",
    "    ax.set_ylim(0, 0.005)\n",
    "\n",
    "axes[-1].set_xlabel(\"Sample Index\")\n",
    "plt.tight_layout()\n",
    "plt.show()"
   ]
  },
  {
   "cell_type": "code",
   "execution_count": null,
   "id": "e984b2f6",
   "metadata": {},
   "outputs": [],
   "source": [
    "\n",
    "# 繪製並重疊每次實驗的 MSE Errors\n",
    "plt.figure(figsize=(12, 8))\n",
    "plt.xlabel(\"Sample Index\")\n",
    "plt.ylabel(\"MSE Error\")\n",
    "for my_ccae in (my_ccae_objects):\n",
    "    plt.plot(my_ccae.basic_timelist[\"Time stamps\"],my_ccae.ccae_repport[\"mse_avg_byfile\"],\n",
    "             label=f\"File: {my_ccae.file_path.split(os.sep)[-1]}\")\n",
    "plt.legend()\n",
    "plt.grid(True)\n",
    "plt.tight_layout()\n",
    "plt.show(block=True)\n",
    "plt.savefig(\"mse_errors_plot.png\")\n",
    "plt.ylim(0, 0.005)"
   ]
  },
  {
   "cell_type": "code",
   "execution_count": null,
   "id": "0ba78024",
   "metadata": {},
   "outputs": [],
   "source": [
    "for my_ccae in (my_ccae_objects):\n",
    "    plt.figure(figsize=(12, 8))\n",
    "    plt.xlabel(\"Sample Index\")\n",
    "    plt.ylabel(\"MSE Error\")\n",
    "    plt.plot(my_ccae.basic_timelist[\"Time stamps\"],my_ccae.ccae_repport[\"mse_avg_byfile\"],\n",
    "            label=f\"File: {my_ccae.file_path.split(os.sep)[-1]}\")\n",
    "    plt.legend()\n",
    "    plt.grid(True)\n",
    "    plt.tight_layout()\n",
    "    plt.show(block=True)"
   ]
  },
  {
   "cell_type": "code",
   "execution_count": null,
   "id": "89359654",
   "metadata": {},
   "outputs": [],
   "source": []
  },
  {
   "cell_type": "code",
   "execution_count": null,
   "id": "d74517cb",
   "metadata": {},
   "outputs": [],
   "source": []
  }
 ],
 "metadata": {
  "kernelspec": {
   "display_name": "rul_ccae_310",
   "language": "python",
   "name": "python3"
  },
  "language_info": {
   "codemirror_mode": {
    "name": "ipython",
    "version": 3
   },
   "file_extension": ".py",
   "mimetype": "text/x-python",
   "name": "python",
   "nbconvert_exporter": "python",
   "pygments_lexer": "ipython3",
   "version": "3.10.18"
  }
 },
 "nbformat": 4,
 "nbformat_minor": 5
}
