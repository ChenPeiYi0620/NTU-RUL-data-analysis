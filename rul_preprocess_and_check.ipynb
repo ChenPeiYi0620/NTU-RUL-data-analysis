{
 "cells": [
  {
   "cell_type": "markdown",
   "id": "2bad8d9d",
   "metadata": {},
   "source": [
    "## 此程式碼將協助處理一些資料庫的資料內容 ##"
   ]
  },
  {
   "cell_type": "code",
   "execution_count": 2,
   "id": "6e8da72a",
   "metadata": {},
   "outputs": [
    {
     "name": "stdout",
     "output_type": "stream",
     "text": [
      "Load_0V\\Speed_1800\\Pressure_5psi\\0313_V1800_5P_FREE2\n",
      "Load_1V\\Speed_1800\\Pressure_10psi\\10kg_1V_1800rpm_1\n",
      "Load_1V\\Speed_1800\\Pressure_10psi\\15kg_1V_1800rpm_1\n",
      "Load_1V\\Speed_1800\\Pressure_10psi\\15kg_1V_1800rpm_2\n",
      "Load_1V\\Speed_1800\\Pressure_5psi\\06kg_1V_1800rpm_2\n",
      "Load_1V\\Speed_1800\\Pressure_5psi\\5psi_1V_1_3min\n",
      "Load_1V5\\Speed_1800\\Pressure_5psi\\0618_V1800_5P_1.5_2\n",
      "Load_1V5\\Speed_3000\\Pressure_5psi\\0321_V3000_5P_1_5V\n",
      "Load_1V5\\Speed_3000\\Pressure_5psi\\0619_V3000_2P_1.5_3\n",
      "Load_1V5\\Speed_3000\\Pressure_5psi\\0619_V3000_5P_1.5_2\n",
      "Load_2V\\Speed_1800\\Pressure_10psi\\0509_V1800_10P_2_1\n",
      "Load_2V\\Speed_1800\\Pressure_5psi\\0402_V1800_5P_2_1\n",
      "Load_2V\\Speed_3000\\Pressure_10psi\\05012_V3000_10P_2_1\n",
      "Load_2V\\Speed_3000\\Pressure_10psi\\05013_V3000_10P_2_2\n",
      "Load_2V\\Speed_3000\\Pressure_10psi\\05013_V3000_10P_2_small\n",
      "Load_Free\\Speed_1800\\Pressure_10psi\\0312_V1800_10P_FREE0\n",
      "Load_Free\\Speed_1800\\Pressure_10psi\\0313_V1800_10P_FREE1\n",
      "Load_Free\\Speed_1800\\Pressure_10psi\\0314_V1800_10P_FREE2\n",
      "Load_Free\\Speed_1800\\Pressure_5psi\\0313_V1800_5P_FREE2\n",
      "Load_Free\\Speed_3000\\Pressure_10psi\\0317_V3000_10P_FREE1\n",
      "Load_Free\\Speed_3000\\Pressure_5psi\\0317_V3000_5P_FREE2\n",
      "Load_Free\\Speed_3000\\Pressure_5psi\\0317_V3000_5P_FREE3\n"
     ]
    }
   ],
   "source": [
    "import os\n",
    "\n",
    "def find_leaf_dirs_relative(root_dir):\n",
    "    leaf_dirs = []\n",
    "\n",
    "    for dirpath, dirnames, filenames in os.walk(root_dir):\n",
    "        # 排除 test1 和 test2 資料夾\n",
    "        if os.path.basename(dirpath) in ['test1', 'test2']:\n",
    "            continue\n",
    "        # 如果沒有子資料夾，表示是最底層\n",
    "        if not dirnames:\n",
    "            # 加入相對路徑\n",
    "            rel_path = os.path.relpath(dirpath, root_dir)\n",
    "            leaf_dirs.append(rel_path)\n",
    "    \n",
    "    return leaf_dirs\n",
    "\n",
    "# 使用範例：請把這裡換成你的根目錄路徑\n",
    "root_directory = r\"D:\\OneDrive\\RUL HI Reasearch Result\\Data_sets\\NTU_RUL_v2_data\\Acc_life_test_data\\Organized_Data\"\n",
    "leaf_dirs = find_leaf_dirs_relative(root_directory)\n",
    "\n",
    "# 輸出相對路徑\n",
    "for folder in leaf_dirs:\n",
    "    print(folder)\n"
   ]
  },
  {
   "cell_type": "markdown",
   "id": "68db3e5e",
   "metadata": {},
   "source": [
    "## 做成動畫 ##"
   ]
  },
  {
   "cell_type": "code",
   "execution_count": null,
   "id": "c67761ce",
   "metadata": {},
   "outputs": [],
   "source": []
  }
 ],
 "metadata": {
  "kernelspec": {
   "display_name": "tf_never_fail",
   "language": "python",
   "name": "python3"
  },
  "language_info": {
   "codemirror_mode": {
    "name": "ipython",
    "version": 3
   },
   "file_extension": ".py",
   "mimetype": "text/x-python",
   "name": "python",
   "nbconvert_exporter": "python",
   "pygments_lexer": "ipython3",
   "version": "3.9.21"
  }
 },
 "nbformat": 4,
 "nbformat_minor": 5
}
